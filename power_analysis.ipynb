{
 "cells": [
  {
   "cell_type": "code",
   "execution_count": 34,
   "metadata": {},
   "outputs": [],
   "source": [
    "import pandas as pd\n",
    "from datetime import datetime"
   ]
  },
  {
   "cell_type": "code",
   "execution_count": 35,
   "metadata": {},
   "outputs": [],
   "source": [
    "def date_parser(date):\n",
    "    return datetime.strptime(date, '%d/%m/%Y')"
   ]
  },
  {
   "cell_type": "code",
   "execution_count": 36,
   "metadata": {},
   "outputs": [
    {
     "name": "stderr",
     "output_type": "stream",
     "text": [
      "/var/folders/0b/z_kjvwcj2213940f5fd4ygg00000gp/T/ipykernel_86683/3405913887.py:1: FutureWarning: The argument 'date_parser' is deprecated and will be removed in a future version. Please use 'date_format' instead, or read your data in as 'object' dtype and then call 'to_datetime'.\n",
      "  df = pd.read_csv('data_v5.csv', parse_dates=['date'], date_parser=date_parser)\n"
     ]
    }
   ],
   "source": [
    "df = pd.read_csv('data_v5.csv', parse_dates=['date'], date_parser=date_parser)"
   ]
  },
  {
   "cell_type": "code",
   "execution_count": 37,
   "metadata": {},
   "outputs": [
    {
     "data": {
      "text/html": [
       "<div>\n",
       "<style scoped>\n",
       "    .dataframe tbody tr th:only-of-type {\n",
       "        vertical-align: middle;\n",
       "    }\n",
       "\n",
       "    .dataframe tbody tr th {\n",
       "        vertical-align: top;\n",
       "    }\n",
       "\n",
       "    .dataframe thead th {\n",
       "        text-align: right;\n",
       "    }\n",
       "</style>\n",
       "<table border=\"1\" class=\"dataframe\">\n",
       "  <thead>\n",
       "    <tr style=\"text-align: right;\">\n",
       "      <th></th>\n",
       "      <th>date</th>\n",
       "      <th>campaign_name</th>\n",
       "      <th>spend</th>\n",
       "      <th>currency</th>\n",
       "      <th>trx_value</th>\n",
       "      <th>trx_count</th>\n",
       "      <th>clicks</th>\n",
       "      <th>impr</th>\n",
       "    </tr>\n",
       "  </thead>\n",
       "  <tbody>\n",
       "    <tr>\n",
       "      <th>0</th>\n",
       "      <td>2024-10-01</td>\n",
       "      <td>inbound-us_ppc_gs_mix_bau-always-on_all-web_cg...</td>\n",
       "      <td>252.92</td>\n",
       "      <td>euro</td>\n",
       "      <td>2596.24</td>\n",
       "      <td>14.50</td>\n",
       "      <td>392</td>\n",
       "      <td>3826</td>\n",
       "    </tr>\n",
       "    <tr>\n",
       "      <th>1</th>\n",
       "      <td>2024-10-01</td>\n",
       "      <td>inbound-us_ppc_gs_mix_bau-always-on_all-web_cg...</td>\n",
       "      <td>246.09</td>\n",
       "      <td>euro</td>\n",
       "      <td>2914.20</td>\n",
       "      <td>27.35</td>\n",
       "      <td>403</td>\n",
       "      <td>3086</td>\n",
       "    </tr>\n",
       "    <tr>\n",
       "      <th>2</th>\n",
       "      <td>2024-10-01</td>\n",
       "      <td>inbound-us_ppc_gs_mix_bau-always-on_all-web_cg...</td>\n",
       "      <td>235.57</td>\n",
       "      <td>euro</td>\n",
       "      <td>1721.70</td>\n",
       "      <td>11.40</td>\n",
       "      <td>414</td>\n",
       "      <td>4138</td>\n",
       "    </tr>\n",
       "  </tbody>\n",
       "</table>\n",
       "</div>"
      ],
      "text/plain": [
       "        date                                      campaign_name   spend  \\\n",
       "0 2024-10-01  inbound-us_ppc_gs_mix_bau-always-on_all-web_cg...  252.92   \n",
       "1 2024-10-01  inbound-us_ppc_gs_mix_bau-always-on_all-web_cg...  246.09   \n",
       "2 2024-10-01  inbound-us_ppc_gs_mix_bau-always-on_all-web_cg...  235.57   \n",
       "\n",
       "  currency  trx_value  trx_count  clicks  impr  \n",
       "0     euro    2596.24      14.50     392  3826  \n",
       "1     euro    2914.20      27.35     403  3086  \n",
       "2     euro    1721.70      11.40     414  4138  "
      ]
     },
     "execution_count": 37,
     "metadata": {},
     "output_type": "execute_result"
    }
   ],
   "source": [
    "df.head(3)"
   ]
  },
  {
   "cell_type": "code",
   "execution_count": 38,
   "metadata": {},
   "outputs": [
    {
     "data": {
      "text/plain": [
       "Index(['date', 'campaign_name', 'spend', 'currency', 'trx_value', 'trx_count',\n",
       "       'clicks', 'impr'],\n",
       "      dtype='object')"
      ]
     },
     "execution_count": 38,
     "metadata": {},
     "output_type": "execute_result"
    }
   ],
   "source": [
    "df.columns"
   ]
  },
  {
   "cell_type": "code",
   "execution_count": 39,
   "metadata": {},
   "outputs": [
    {
     "data": {
      "text/html": [
       "<div>\n",
       "<style scoped>\n",
       "    .dataframe tbody tr th:only-of-type {\n",
       "        vertical-align: middle;\n",
       "    }\n",
       "\n",
       "    .dataframe tbody tr th {\n",
       "        vertical-align: top;\n",
       "    }\n",
       "\n",
       "    .dataframe thead th {\n",
       "        text-align: right;\n",
       "    }\n",
       "</style>\n",
       "<table border=\"1\" class=\"dataframe\">\n",
       "  <thead>\n",
       "    <tr style=\"text-align: right;\">\n",
       "      <th></th>\n",
       "      <th></th>\n",
       "      <th>spend</th>\n",
       "      <th>trx_count</th>\n",
       "      <th>trx_value</th>\n",
       "      <th>clicks</th>\n",
       "      <th>impr</th>\n",
       "    </tr>\n",
       "    <tr>\n",
       "      <th>date</th>\n",
       "      <th>currency</th>\n",
       "      <th></th>\n",
       "      <th></th>\n",
       "      <th></th>\n",
       "      <th></th>\n",
       "      <th></th>\n",
       "    </tr>\n",
       "  </thead>\n",
       "  <tbody>\n",
       "    <tr>\n",
       "      <th>2024-10-01</th>\n",
       "      <th>euro</th>\n",
       "      <td>1190.85</td>\n",
       "      <td>78.42</td>\n",
       "      <td>10853.29</td>\n",
       "      <td>1805</td>\n",
       "      <td>17359</td>\n",
       "    </tr>\n",
       "    <tr>\n",
       "      <th>2024-10-02</th>\n",
       "      <th>euro</th>\n",
       "      <td>1094.39</td>\n",
       "      <td>80.61</td>\n",
       "      <td>12752.28</td>\n",
       "      <td>1654</td>\n",
       "      <td>16931</td>\n",
       "    </tr>\n",
       "    <tr>\n",
       "      <th>2024-10-03</th>\n",
       "      <th>euro</th>\n",
       "      <td>1123.08</td>\n",
       "      <td>94.52</td>\n",
       "      <td>13651.58</td>\n",
       "      <td>1736</td>\n",
       "      <td>17680</td>\n",
       "    </tr>\n",
       "    <tr>\n",
       "      <th>2024-10-04</th>\n",
       "      <th>euro</th>\n",
       "      <td>1198.42</td>\n",
       "      <td>63.11</td>\n",
       "      <td>8820.40</td>\n",
       "      <td>1820</td>\n",
       "      <td>18643</td>\n",
       "    </tr>\n",
       "    <tr>\n",
       "      <th>2024-10-05</th>\n",
       "      <th>euro</th>\n",
       "      <td>1142.18</td>\n",
       "      <td>70.06</td>\n",
       "      <td>10255.38</td>\n",
       "      <td>1831</td>\n",
       "      <td>19459</td>\n",
       "    </tr>\n",
       "  </tbody>\n",
       "</table>\n",
       "</div>"
      ],
      "text/plain": [
       "                       spend  trx_count  trx_value  clicks   impr\n",
       "date       currency                                              \n",
       "2024-10-01 euro      1190.85      78.42   10853.29    1805  17359\n",
       "2024-10-02 euro      1094.39      80.61   12752.28    1654  16931\n",
       "2024-10-03 euro      1123.08      94.52   13651.58    1736  17680\n",
       "2024-10-04 euro      1198.42      63.11    8820.40    1820  18643\n",
       "2024-10-05 euro      1142.18      70.06   10255.38    1831  19459"
      ]
     },
     "execution_count": 39,
     "metadata": {},
     "output_type": "execute_result"
    }
   ],
   "source": [
    "df1 = df.groupby(['date','currency']).agg({'spend': 'sum', 'trx_count': 'sum', 'trx_value': 'sum',\n",
    "                                            'clicks': 'sum', 'impr': 'sum'})\n",
    "df1.head()"
   ]
  },
  {
   "cell_type": "code",
   "execution_count": 80,
   "metadata": {},
   "outputs": [
    {
     "data": {
      "text/plain": [
       "[0.01, 0.03, 0.05, 0.07, 0.09, 0.11, 0.13, 0.15, 0.17, 0.19]"
      ]
     },
     "execution_count": 80,
     "metadata": {},
     "output_type": "execute_result"
    }
   ],
   "source": [
    "lift = [i*0.01 for i in range(1, 20, 2)]\n",
    "lift"
   ]
  },
  {
   "cell_type": "code",
   "execution_count": 68,
   "metadata": {},
   "outputs": [
    {
     "data": {
      "text/plain": [
       "0.004385713970377237"
      ]
     },
     "execution_count": 68,
     "metadata": {},
     "output_type": "execute_result"
    }
   ],
   "source": [
    "df1['trx_count'].sum() / df1['impr'].sum()"
   ]
  },
  {
   "cell_type": "code",
   "execution_count": null,
   "metadata": {},
   "outputs": [],
   "source": [
    "atv = df1['trx_value'].sum() / df1['trx_count'].sum()"
   ]
  },
  {
   "cell_type": "code",
   "execution_count": 47,
   "metadata": {},
   "outputs": [],
   "source": [
    "import numpy as np\n",
    "def samples_required(df, col1, col2):\n",
    "    pulled_mean = (df[col1] + df[col2])/2\n",
    "    effect_size = abs(df[col1] - df[col2]) / np.sqrt(pulled_mean*(1-pulled_mean))\n",
    "    sample_size = 2 * (1.96 + 0.84)**2  / effect_size**2\n",
    "    return np.ceil(sample_size)"
   ]
  },
  {
   "cell_type": "code",
   "execution_count": 98,
   "metadata": {},
   "outputs": [],
   "source": [
    "daily_spend = df1['spend'].sum() / 30"
   ]
  },
  {
   "cell_type": "code",
   "execution_count": 99,
   "metadata": {},
   "outputs": [
    {
     "data": {
      "text/html": [
       "<div>\n",
       "<style scoped>\n",
       "    .dataframe tbody tr th:only-of-type {\n",
       "        vertical-align: middle;\n",
       "    }\n",
       "\n",
       "    .dataframe tbody tr th {\n",
       "        vertical-align: top;\n",
       "    }\n",
       "\n",
       "    .dataframe thead th {\n",
       "        text-align: right;\n",
       "    }\n",
       "</style>\n",
       "<table border=\"1\" class=\"dataframe\">\n",
       "  <thead>\n",
       "    <tr style=\"text-align: right;\">\n",
       "      <th></th>\n",
       "      <th>i2t_cvr_lift</th>\n",
       "      <th>i2t_cvr_base</th>\n",
       "      <th>i2t_cvr_test</th>\n",
       "      <th>min_impr_each</th>\n",
       "      <th>duration_days</th>\n",
       "      <th>total_budget</th>\n",
       "      <th>total_trx_base</th>\n",
       "      <th>total_trx_test</th>\n",
       "      <th>total_trx_uplift</th>\n",
       "      <th>total_gs_uplift</th>\n",
       "    </tr>\n",
       "  </thead>\n",
       "  <tbody>\n",
       "    <tr>\n",
       "      <th>0</th>\n",
       "      <td>0.01</td>\n",
       "      <td>0.004386</td>\n",
       "      <td>0.004430</td>\n",
       "      <td>35772836.0</td>\n",
       "      <td>4737.810211</td>\n",
       "      <td>4.551120e+06</td>\n",
       "      <td>156889.426605</td>\n",
       "      <td>158458.320871</td>\n",
       "      <td>1568.894266</td>\n",
       "      <td>243335.500665</td>\n",
       "    </tr>\n",
       "    <tr>\n",
       "      <th>1</th>\n",
       "      <td>0.03</td>\n",
       "      <td>0.004386</td>\n",
       "      <td>0.004517</td>\n",
       "      <td>4014133.0</td>\n",
       "      <td>531.638037</td>\n",
       "      <td>5.106892e+05</td>\n",
       "      <td>17604.839177</td>\n",
       "      <td>18132.984352</td>\n",
       "      <td>528.145175</td>\n",
       "      <td>81915.316691</td>\n",
       "    </tr>\n",
       "    <tr>\n",
       "      <th>2</th>\n",
       "      <td>0.05</td>\n",
       "      <td>0.004386</td>\n",
       "      <td>0.004605</td>\n",
       "      <td>1459261.0</td>\n",
       "      <td>193.266804</td>\n",
       "      <td>1.856513e+05</td>\n",
       "      <td>6399.901354</td>\n",
       "      <td>6719.896422</td>\n",
       "      <td>319.995068</td>\n",
       "      <td>49631.235001</td>\n",
       "    </tr>\n",
       "    <tr>\n",
       "      <th>3</th>\n",
       "      <td>0.07</td>\n",
       "      <td>0.004386</td>\n",
       "      <td>0.004693</td>\n",
       "      <td>751752.0</td>\n",
       "      <td>99.563208</td>\n",
       "      <td>9.563999e+04</td>\n",
       "      <td>3296.969249</td>\n",
       "      <td>3527.757096</td>\n",
       "      <td>230.787847</td>\n",
       "      <td>35795.195133</td>\n",
       "    </tr>\n",
       "    <tr>\n",
       "      <th>4</th>\n",
       "      <td>0.09</td>\n",
       "      <td>0.004386</td>\n",
       "      <td>0.004780</td>\n",
       "      <td>459137.0</td>\n",
       "      <td>60.808821</td>\n",
       "      <td>5.841269e+04</td>\n",
       "      <td>2013.643555</td>\n",
       "      <td>2194.871475</td>\n",
       "      <td>181.227920</td>\n",
       "      <td>28108.450387</td>\n",
       "    </tr>\n",
       "    <tr>\n",
       "      <th>5</th>\n",
       "      <td>0.11</td>\n",
       "      <td>0.004386</td>\n",
       "      <td>0.004868</td>\n",
       "      <td>310284.0</td>\n",
       "      <td>41.094497</td>\n",
       "      <td>3.947520e+04</td>\n",
       "      <td>1360.816874</td>\n",
       "      <td>1510.506730</td>\n",
       "      <td>149.689856</td>\n",
       "      <td>23216.896680</td>\n",
       "    </tr>\n",
       "    <tr>\n",
       "      <th>6</th>\n",
       "      <td>0.13</td>\n",
       "      <td>0.004386</td>\n",
       "      <td>0.004956</td>\n",
       "      <td>224252.0</td>\n",
       "      <td>29.700285</td>\n",
       "      <td>2.852996e+04</td>\n",
       "      <td>983.505129</td>\n",
       "      <td>1111.360796</td>\n",
       "      <td>127.855667</td>\n",
       "      <td>19830.413922</td>\n",
       "    </tr>\n",
       "    <tr>\n",
       "      <th>7</th>\n",
       "      <td>0.15</td>\n",
       "      <td>0.004386</td>\n",
       "      <td>0.005044</td>\n",
       "      <td>170012.0</td>\n",
       "      <td>22.516655</td>\n",
       "      <td>2.162940e+04</td>\n",
       "      <td>745.624004</td>\n",
       "      <td>857.467604</td>\n",
       "      <td>111.843601</td>\n",
       "      <td>17346.942442</td>\n",
       "    </tr>\n",
       "    <tr>\n",
       "      <th>8</th>\n",
       "      <td>0.17</td>\n",
       "      <td>0.004386</td>\n",
       "      <td>0.005131</td>\n",
       "      <td>133588.0</td>\n",
       "      <td>17.692603</td>\n",
       "      <td>1.699544e+04</td>\n",
       "      <td>585.878758</td>\n",
       "      <td>685.478147</td>\n",
       "      <td>99.599389</td>\n",
       "      <td>15447.865209</td>\n",
       "    </tr>\n",
       "    <tr>\n",
       "      <th>9</th>\n",
       "      <td>0.19</td>\n",
       "      <td>0.004386</td>\n",
       "      <td>0.005219</td>\n",
       "      <td>107925.0</td>\n",
       "      <td>14.293755</td>\n",
       "      <td>1.373052e+04</td>\n",
       "      <td>473.328180</td>\n",
       "      <td>563.260535</td>\n",
       "      <td>89.932354</td>\n",
       "      <td>13948.508144</td>\n",
       "    </tr>\n",
       "  </tbody>\n",
       "</table>\n",
       "</div>"
      ],
      "text/plain": [
       "   i2t_cvr_lift  i2t_cvr_base  i2t_cvr_test  min_impr_each  duration_days  \\\n",
       "0          0.01      0.004386      0.004430     35772836.0    4737.810211   \n",
       "1          0.03      0.004386      0.004517      4014133.0     531.638037   \n",
       "2          0.05      0.004386      0.004605      1459261.0     193.266804   \n",
       "3          0.07      0.004386      0.004693       751752.0      99.563208   \n",
       "4          0.09      0.004386      0.004780       459137.0      60.808821   \n",
       "5          0.11      0.004386      0.004868       310284.0      41.094497   \n",
       "6          0.13      0.004386      0.004956       224252.0      29.700285   \n",
       "7          0.15      0.004386      0.005044       170012.0      22.516655   \n",
       "8          0.17      0.004386      0.005131       133588.0      17.692603   \n",
       "9          0.19      0.004386      0.005219       107925.0      14.293755   \n",
       "\n",
       "   total_budget  total_trx_base  total_trx_test  total_trx_uplift  \\\n",
       "0  4.551120e+06   156889.426605   158458.320871       1568.894266   \n",
       "1  5.106892e+05    17604.839177    18132.984352        528.145175   \n",
       "2  1.856513e+05     6399.901354     6719.896422        319.995068   \n",
       "3  9.563999e+04     3296.969249     3527.757096        230.787847   \n",
       "4  5.841269e+04     2013.643555     2194.871475        181.227920   \n",
       "5  3.947520e+04     1360.816874     1510.506730        149.689856   \n",
       "6  2.852996e+04      983.505129     1111.360796        127.855667   \n",
       "7  2.162940e+04      745.624004      857.467604        111.843601   \n",
       "8  1.699544e+04      585.878758      685.478147         99.599389   \n",
       "9  1.373052e+04      473.328180      563.260535         89.932354   \n",
       "\n",
       "   total_gs_uplift  \n",
       "0    243335.500665  \n",
       "1     81915.316691  \n",
       "2     49631.235001  \n",
       "3     35795.195133  \n",
       "4     28108.450387  \n",
       "5     23216.896680  \n",
       "6     19830.413922  \n",
       "7     17346.942442  \n",
       "8     15447.865209  \n",
       "9     13948.508144  "
      ]
     },
     "execution_count": 99,
     "metadata": {},
     "output_type": "execute_result"
    }
   ],
   "source": [
    "ps = pd.DataFrame()\n",
    "ps['i2t_cvr_lift'] = lift\n",
    "ps['i2t_cvr_base'] = [df1['trx_count'].sum() / df1['impr'].sum()] * len(lift)\n",
    "ps['i2t_cvr_test'] = ps['i2t_cvr_base'] * (1+ps['i2t_cvr_lift'])\n",
    "ps['min_impr_each'] = samples_required(ps, 'i2t_cvr_base', 'i2t_cvr_test')\n",
    "ps['duration_days'] = ps['min_impr_each'] * 2 * 30/ df1['impr'].sum()\n",
    "ps['total_budget'] = ps['duration_days'] * daily_spend\n",
    "ps['total_trx_base'] = ps['i2t_cvr_base'] * ps['min_impr_each']\n",
    "ps['total_trx_test'] = ps['i2t_cvr_test'] * ps['min_impr_each']\n",
    "ps['total_trx_uplift'] = (ps['i2t_cvr_test'] - ps['i2t_cvr_base']) * ps['min_impr_each']\n",
    "ps['total_gs_uplift'] = ps['total_trx_uplift'] * 155.1\n",
    "\n",
    "# ps['daily_trx_value_base'] = [df1['trx_value'].mean()]  * len(lift)\n",
    "# ps['daily_trx_value_test'] = ps['daily_trx_value_base'] * (1+ps['lift'])\n",
    "\n",
    "# ps['min_trx_count_each'] = samples_required(ps, 'daily_trx_value_base', 'daily_trx_value_test')\n",
    "# ps['min_duration_in_days']\n",
    "\n",
    "ps"
   ]
  },
  {
   "cell_type": "code",
   "execution_count": 100,
   "metadata": {},
   "outputs": [],
   "source": [
    "ps.to_csv('power_analysis_result.csv', index=False)"
   ]
  },
  {
   "cell_type": "code",
   "execution_count": 53,
   "metadata": {},
   "outputs": [],
   "source": [
    "from statsmodels.stats.power import TTestIndPower"
   ]
  },
  {
   "cell_type": "code",
   "execution_count": 57,
   "metadata": {},
   "outputs": [
    {
     "data": {
      "text/plain": [
       "2666.5041920057097"
      ]
     },
     "execution_count": 57,
     "metadata": {},
     "output_type": "execute_result"
    }
   ],
   "source": [
    "df1['trx_value'].std()"
   ]
  },
  {
   "cell_type": "code",
   "execution_count": 96,
   "metadata": {},
   "outputs": [
    {
     "data": {
      "text/plain": [
       "0    0.066244\n",
       "1    0.066571\n",
       "2    0.066897\n",
       "3    0.067221\n",
       "4    0.067543\n",
       "5    0.067864\n",
       "6    0.068183\n",
       "7    0.068501\n",
       "8    0.068818\n",
       "9    0.069132\n",
       "dtype: float64"
      ]
     },
     "execution_count": 96,
     "metadata": {},
     "output_type": "execute_result"
    }
   ],
   "source": [
    "std_pm"
   ]
  },
  {
   "cell_type": "code",
   "execution_count": 97,
   "metadata": {},
   "outputs": [
    {
     "name": "stdout",
     "output_type": "stream",
     "text": [
      "Required sample size per group: 9\n"
     ]
    }
   ],
   "source": [
    "# Initialize power analysis object\n",
    "analysis = TTestIndPower()\n",
    "\n",
    "# Set parameters\n",
    "# effect_size = 0.50  # Example: expected 5% uplift in sales\n",
    "alpha = 0.05        # Significance level\n",
    "power = 0.8         # Desired power\n",
    "std_dev = 0.067543   # Estimate of baseline sales variability (in currency units)\n",
    "uplift = 0.09     # Expected uplift in total sales (as a proportion of baseline)\n",
    "\n",
    "# Calculate effect size based on expected uplift and standard deviation\n",
    "# Cohen's d: effect size = mean difference / standard deviation\n",
    "effect_size = uplift / std_dev\n",
    "\n",
    "# Compute sample size\n",
    "sample_size = analysis.solve_power(effect_size=effect_size, power=power, alpha=alpha, alternative='two-sided')\n",
    "print(f\"Required sample size per group: {int(sample_size)}\")\n"
   ]
  },
  {
   "cell_type": "code",
   "execution_count": 59,
   "metadata": {},
   "outputs": [
    {
     "data": {
      "text/plain": [
       "308156.57"
      ]
     },
     "execution_count": 59,
     "metadata": {},
     "output_type": "execute_result"
    }
   ],
   "source": [
    "df1['trx_value'].sum()"
   ]
  },
  {
   "cell_type": "code",
   "execution_count": 60,
   "metadata": {},
   "outputs": [
    {
     "data": {
      "text/plain": [
       "144880.2430489752"
      ]
     },
     "execution_count": 60,
     "metadata": {},
     "output_type": "execute_result"
    }
   ],
   "source": [
    "44645716177 / 308156"
   ]
  },
  {
   "cell_type": "code",
   "execution_count": 61,
   "metadata": {},
   "outputs": [
    {
     "data": {
      "text/plain": [
       "4829.333333333333"
      ]
     },
     "execution_count": 61,
     "metadata": {},
     "output_type": "execute_result"
    }
   ],
   "source": [
    "144880 / 30"
   ]
  },
  {
   "cell_type": "code",
   "execution_count": 67,
   "metadata": {},
   "outputs": [
    {
     "data": {
      "text/plain": [
       "9055.01571282078"
      ]
     },
     "execution_count": 67,
     "metadata": {},
     "output_type": "execute_result"
    }
   ],
   "source": [
    "2790357422 / 308156"
   ]
  },
  {
   "cell_type": "code",
   "execution_count": null,
   "metadata": {},
   "outputs": [],
   "source": []
  }
 ],
 "metadata": {
  "kernelspec": {
   "display_name": "Python 3",
   "language": "python",
   "name": "python3"
  },
  "language_info": {
   "codemirror_mode": {
    "name": "ipython",
    "version": 3
   },
   "file_extension": ".py",
   "mimetype": "text/x-python",
   "name": "python",
   "nbconvert_exporter": "python",
   "pygments_lexer": "ipython3",
   "version": "3.9.6"
  }
 },
 "nbformat": 4,
 "nbformat_minor": 2
}
